{
 "cells": [
  {
   "cell_type": "code",
   "execution_count": 399,
   "id": "1b4bbe4c",
   "metadata": {
    "ExecuteTime": {
     "end_time": "2022-10-13T17:46:01.099159Z",
     "start_time": "2022-10-13T17:46:01.092092Z"
    }
   },
   "outputs": [],
   "source": [
    "import pandas as pd\n",
    "import numpy as np"
   ]
  },
  {
   "cell_type": "code",
   "execution_count": 400,
   "id": "032cca61",
   "metadata": {
    "ExecuteTime": {
     "end_time": "2022-10-13T17:46:01.145805Z",
     "start_time": "2022-10-13T17:46:01.100091Z"
    }
   },
   "outputs": [],
   "source": [
    "df = pd.read_csv('Data_Dictionary_for_CSV_2022_10_10.csv')"
   ]
  },
  {
   "cell_type": "code",
   "execution_count": 401,
   "id": "8399cc5c",
   "metadata": {
    "ExecuteTime": {
     "end_time": "2022-10-13T17:46:01.160890Z",
     "start_time": "2022-10-13T17:46:01.146816Z"
    }
   },
   "outputs": [
    {
     "data": {
      "text/html": [
       "<div>\n",
       "<style scoped>\n",
       "    .dataframe tbody tr th:only-of-type {\n",
       "        vertical-align: middle;\n",
       "    }\n",
       "\n",
       "    .dataframe tbody tr th {\n",
       "        vertical-align: top;\n",
       "    }\n",
       "\n",
       "    .dataframe thead th {\n",
       "        text-align: right;\n",
       "    }\n",
       "</style>\n",
       "<table border=\"1\" class=\"dataframe\">\n",
       "  <thead>\n",
       "    <tr style=\"text-align: right;\">\n",
       "      <th></th>\n",
       "      <th>data_source_title</th>\n",
       "      <th>report_type_title</th>\n",
       "      <th>field_title</th>\n",
       "      <th>sql_field_name</th>\n",
       "      <th>api_field_name</th>\n",
       "    </tr>\n",
       "  </thead>\n",
       "  <tbody>\n",
       "    <tr>\n",
       "      <th>0</th>\n",
       "      <td>ACME</td>\n",
       "      <td>Transactions</td>\n",
       "      <td>Payment Status</td>\n",
       "      <td>payment_status</td>\n",
       "      <td>PaymentStatus</td>\n",
       "    </tr>\n",
       "    <tr>\n",
       "      <th>1</th>\n",
       "      <td>ACME</td>\n",
       "      <td>Transactions</td>\n",
       "      <td>Payment Method</td>\n",
       "      <td>payment_method</td>\n",
       "      <td>PaymentMethod</td>\n",
       "    </tr>\n",
       "    <tr>\n",
       "      <th>2</th>\n",
       "      <td>ACME</td>\n",
       "      <td>Transactions</td>\n",
       "      <td>Payment Due Date</td>\n",
       "      <td>payment_due_date</td>\n",
       "      <td>PaymentDueDate</td>\n",
       "    </tr>\n",
       "    <tr>\n",
       "      <th>3</th>\n",
       "      <td>ACME</td>\n",
       "      <td>Transactions</td>\n",
       "      <td>Parent Transaction Id</td>\n",
       "      <td>parent_transaction_id</td>\n",
       "      <td>ParentTransactionId</td>\n",
       "    </tr>\n",
       "    <tr>\n",
       "      <th>4</th>\n",
       "      <td>ACME</td>\n",
       "      <td>Transactions</td>\n",
       "      <td>OrderItem Type</td>\n",
       "      <td>orderitem_type</td>\n",
       "      <td>OrderItemType</td>\n",
       "    </tr>\n",
       "    <tr>\n",
       "      <th>...</th>\n",
       "      <td>...</td>\n",
       "      <td>...</td>\n",
       "      <td>...</td>\n",
       "      <td>...</td>\n",
       "      <td>...</td>\n",
       "    </tr>\n",
       "    <tr>\n",
       "      <th>31090</th>\n",
       "      <td>Zignal Labs</td>\n",
       "      <td>Newsroom Stories</td>\n",
       "      <td>Story Id</td>\n",
       "      <td>story_id</td>\n",
       "      <td>_id</td>\n",
       "    </tr>\n",
       "    <tr>\n",
       "      <th>31091</th>\n",
       "      <td>Zignal Labs</td>\n",
       "      <td>Newsroom Stories</td>\n",
       "      <td>Language</td>\n",
       "      <td>language</td>\n",
       "      <td>language</td>\n",
       "    </tr>\n",
       "    <tr>\n",
       "      <th>31092</th>\n",
       "      <td>Zignal Labs</td>\n",
       "      <td>Newsroom Stories</td>\n",
       "      <td>Gender</td>\n",
       "      <td>gender</td>\n",
       "      <td>gender</td>\n",
       "    </tr>\n",
       "    <tr>\n",
       "      <th>31093</th>\n",
       "      <td>Zignal Labs</td>\n",
       "      <td>Newsroom Stories</td>\n",
       "      <td>Potential Impressions</td>\n",
       "      <td>potential_impressions</td>\n",
       "      <td>potential_impressions</td>\n",
       "    </tr>\n",
       "    <tr>\n",
       "      <th>31094</th>\n",
       "      <td>Zignal Labs</td>\n",
       "      <td>Newsroom Stories</td>\n",
       "      <td>Influence</td>\n",
       "      <td>influence</td>\n",
       "      <td>influence</td>\n",
       "    </tr>\n",
       "  </tbody>\n",
       "</table>\n",
       "<p>31095 rows × 5 columns</p>\n",
       "</div>"
      ],
      "text/plain": [
       "      data_source_title report_type_title            field_title  \\\n",
       "0                  ACME      Transactions         Payment Status   \n",
       "1                  ACME      Transactions         Payment Method   \n",
       "2                  ACME      Transactions       Payment Due Date   \n",
       "3                  ACME      Transactions  Parent Transaction Id   \n",
       "4                  ACME      Transactions         OrderItem Type   \n",
       "...                 ...               ...                    ...   \n",
       "31090       Zignal Labs  Newsroom Stories               Story Id   \n",
       "31091       Zignal Labs  Newsroom Stories               Language   \n",
       "31092       Zignal Labs  Newsroom Stories                 Gender   \n",
       "31093       Zignal Labs  Newsroom Stories  Potential Impressions   \n",
       "31094       Zignal Labs  Newsroom Stories              Influence   \n",
       "\n",
       "              sql_field_name         api_field_name  \n",
       "0             payment_status          PaymentStatus  \n",
       "1             payment_method          PaymentMethod  \n",
       "2           payment_due_date         PaymentDueDate  \n",
       "3      parent_transaction_id    ParentTransactionId  \n",
       "4             orderitem_type          OrderItemType  \n",
       "...                      ...                    ...  \n",
       "31090               story_id                    _id  \n",
       "31091               language               language  \n",
       "31092                 gender                 gender  \n",
       "31093  potential_impressions  potential_impressions  \n",
       "31094              influence              influence  \n",
       "\n",
       "[31095 rows x 5 columns]"
      ]
     },
     "execution_count": 401,
     "metadata": {},
     "output_type": "execute_result"
    }
   ],
   "source": [
    "df"
   ]
  },
  {
   "cell_type": "code",
   "execution_count": 402,
   "id": "5c6dac3b",
   "metadata": {
    "ExecuteTime": {
     "end_time": "2022-10-13T17:46:01.176021Z",
     "start_time": "2022-10-13T17:46:01.161815Z"
    }
   },
   "outputs": [],
   "source": [
    "len_df = len(df)"
   ]
  },
  {
   "cell_type": "code",
   "execution_count": 403,
   "id": "db6d6f16",
   "metadata": {
    "ExecuteTime": {
     "end_time": "2022-10-13T17:46:01.191943Z",
     "start_time": "2022-10-13T17:46:01.177035Z"
    }
   },
   "outputs": [],
   "source": [
    "# \"channel|type|status|method|date|sentiment|url|id|num|name|code|city|time|last|subject|dayofweek|dayofmonth|data|os|origin|title|link|when|browser|ip|detail|utc|currency|weekday|system|source|region|country|domain|platform|group|campaign|token|language|color|carrier|dma|java|latlon|category|engine|company|rank|service|state|server|agent|hash|keyword|tactic|usd|policy|brand|condition|local|version|key|format|area\"\n",
    "#     )"
   ]
  },
  {
   "cell_type": "code",
   "execution_count": 404,
   "id": "53509f31",
   "metadata": {
    "ExecuteTime": {
     "end_time": "2022-10-13T17:46:01.207334Z",
     "start_time": "2022-10-13T17:46:01.192870Z"
    }
   },
   "outputs": [],
   "source": [
    "metrics = '''\n",
    "            metric\n",
    "            rate\n",
    "            sum\n",
    "            value\n",
    "            clicks\n",
    "            opens\n",
    "            Amount\n",
    "            Quantity\n",
    "            Balance\n",
    "            replies\n",
    "            forwards\n",
    "            unsubscribes\n",
    "            shares\n",
    "            sends\n",
    "            bounces\n",
    "            expands\n",
    "            impressions\n",
    "            starts\n",
    "            bids\n",
    "            ends\n",
    "            views\n",
    "            rating\n",
    "            tags\n",
    "            count\n",
    "            score\n",
    "            Visits\n",
    "            bounces\n",
    "            conversions\n",
    "            ratio\n",
    "            total\n",
    "            revenue\n",
    "            tweets\n",
    "            retweets\n",
    "            evar\n",
    "            post\n",
    "            prop\n",
    "            cost\n",
    "            sessions\n",
    "            budget\n",
    "            installs\n",
    "            calls\n",
    "            percent\n",
    "            mean\n",
    "            average\n",
    "            completions\n",
    "            price sales interactions complections measures reattributions engagements actions competitors units\n",
    "            followers visitors users emails employees custom subscriptions\n",
    "            '''.lower().split()"
   ]
  },
  {
   "cell_type": "code",
   "execution_count": 405,
   "id": "af14ea4c",
   "metadata": {
    "ExecuteTime": {
     "end_time": "2022-10-13T17:46:01.222598Z",
     "start_time": "2022-10-13T17:46:01.208262Z"
    }
   },
   "outputs": [],
   "source": [
    "def find_metrics(row):\n",
    "    for metric in metrics:\n",
    "        if metric in row['api_field_name'].lower():\n",
    "            return 'metric'\n",
    "        if metric in row['sql_field_name'].lower():\n",
    "            return 'metric'"
   ]
  },
  {
   "cell_type": "code",
   "execution_count": 406,
   "id": "67ad02e0",
   "metadata": {
    "ExecuteTime": {
     "end_time": "2022-10-13T17:46:05.826489Z",
     "start_time": "2022-10-13T17:46:01.223480Z"
    }
   },
   "outputs": [],
   "source": [
    "df['type'] = df.apply(find_metrics, axis=1)"
   ]
  },
  {
   "cell_type": "code",
   "execution_count": 407,
   "id": "ce80c3ca",
   "metadata": {
    "ExecuteTime": {
     "end_time": "2022-10-13T17:46:05.837543Z",
     "start_time": "2022-10-13T17:46:05.827509Z"
    }
   },
   "outputs": [],
   "source": [
    "part_metrics = df['type'].value_counts()/len_df*100"
   ]
  },
  {
   "cell_type": "code",
   "execution_count": 408,
   "id": "7802445c",
   "metadata": {
    "ExecuteTime": {
     "end_time": "2022-10-13T17:46:05.852755Z",
     "start_time": "2022-10-13T17:46:05.839509Z"
    }
   },
   "outputs": [
    {
     "data": {
      "text/plain": [
       "metric    53.355845\n",
       "Name: type, dtype: float64"
      ]
     },
     "execution_count": 408,
     "metadata": {},
     "output_type": "execute_result"
    }
   ],
   "source": [
    "part_metrics"
   ]
  },
  {
   "cell_type": "code",
   "execution_count": 409,
   "id": "12092ea7",
   "metadata": {
    "ExecuteTime": {
     "end_time": "2022-10-13T17:46:05.867932Z",
     "start_time": "2022-10-13T17:46:05.853765Z"
    }
   },
   "outputs": [
    {
     "name": "stdout",
     "output_type": "stream",
     "text": [
      "53\n"
     ]
    }
   ],
   "source": [
    "print(int(round(part_metrics)))"
   ]
  }
 ],
 "metadata": {
  "kernelspec": {
   "display_name": "Python 3 (ipykernel)",
   "language": "python",
   "name": "python3"
  },
  "language_info": {
   "codemirror_mode": {
    "name": "ipython",
    "version": 3
   },
   "file_extension": ".py",
   "mimetype": "text/x-python",
   "name": "python",
   "nbconvert_exporter": "python",
   "pygments_lexer": "ipython3",
   "version": "3.9.12"
  },
  "toc": {
   "base_numbering": 1,
   "nav_menu": {},
   "number_sections": true,
   "sideBar": true,
   "skip_h1_title": false,
   "title_cell": "Table of Contents",
   "title_sidebar": "Contents",
   "toc_cell": false,
   "toc_position": {},
   "toc_section_display": true,
   "toc_window_display": false
  }
 },
 "nbformat": 4,
 "nbformat_minor": 5
}
