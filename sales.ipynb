{
 "cells": [
  {
   "cell_type": "code",
   "execution_count": 34,
   "id": "f623d73c",
   "metadata": {
    "ExecuteTime": {
     "end_time": "2022-10-13T11:17:52.533659Z",
     "start_time": "2022-10-13T11:17:52.519659Z"
    }
   },
   "outputs": [],
   "source": [
    "# import libraries\n",
    "import pandas as pd"
   ]
  },
  {
   "cell_type": "code",
   "execution_count": 35,
   "id": "d6c54f54",
   "metadata": {
    "ExecuteTime": {
     "end_time": "2022-10-13T11:17:52.548978Z",
     "start_time": "2022-10-13T11:17:52.534660Z"
    }
   },
   "outputs": [],
   "source": [
    "# read data\n",
    "df = pd.read_csv('best_salesman_homework.csv', parse_dates=[1])"
   ]
  },
  {
   "cell_type": "code",
   "execution_count": 36,
   "id": "7f296620",
   "metadata": {
    "ExecuteTime": {
     "end_time": "2022-10-13T11:17:52.564271Z",
     "start_time": "2022-10-13T11:17:52.551053Z"
    }
   },
   "outputs": [
    {
     "data": {
      "text/html": [
       "<div>\n",
       "<style scoped>\n",
       "    .dataframe tbody tr th:only-of-type {\n",
       "        vertical-align: middle;\n",
       "    }\n",
       "\n",
       "    .dataframe tbody tr th {\n",
       "        vertical-align: top;\n",
       "    }\n",
       "\n",
       "    .dataframe thead th {\n",
       "        text-align: right;\n",
       "    }\n",
       "</style>\n",
       "<table border=\"1\" class=\"dataframe\">\n",
       "  <thead>\n",
       "    <tr style=\"text-align: right;\">\n",
       "      <th></th>\n",
       "      <th>client_account_id</th>\n",
       "      <th>date</th>\n",
       "      <th>event_name</th>\n",
       "      <th>manager_id</th>\n",
       "      <th>manager_nickname</th>\n",
       "    </tr>\n",
       "  </thead>\n",
       "  <tbody>\n",
       "    <tr>\n",
       "      <th>0</th>\n",
       "      <td>0</td>\n",
       "      <td>2022-05-09</td>\n",
       "      <td>first_touch</td>\n",
       "      <td>1.0</td>\n",
       "      <td>Justin Beiber</td>\n",
       "    </tr>\n",
       "    <tr>\n",
       "      <th>1</th>\n",
       "      <td>1</td>\n",
       "      <td>2022-03-21</td>\n",
       "      <td>first_touch</td>\n",
       "      <td>3.0</td>\n",
       "      <td>Joe Biden</td>\n",
       "    </tr>\n",
       "    <tr>\n",
       "      <th>2</th>\n",
       "      <td>2</td>\n",
       "      <td>2022-04-18</td>\n",
       "      <td>first_touch</td>\n",
       "      <td>2.0</td>\n",
       "      <td>Kylie Jenner</td>\n",
       "    </tr>\n",
       "    <tr>\n",
       "      <th>3</th>\n",
       "      <td>3</td>\n",
       "      <td>2022-02-07</td>\n",
       "      <td>first_touch</td>\n",
       "      <td>2.0</td>\n",
       "      <td>Kylie Jenner</td>\n",
       "    </tr>\n",
       "    <tr>\n",
       "      <th>4</th>\n",
       "      <td>4</td>\n",
       "      <td>2022-04-08</td>\n",
       "      <td>first_touch</td>\n",
       "      <td>1.0</td>\n",
       "      <td>Justin Beiber</td>\n",
       "    </tr>\n",
       "  </tbody>\n",
       "</table>\n",
       "</div>"
      ],
      "text/plain": [
       "   client_account_id       date   event_name  manager_id manager_nickname\n",
       "0                  0 2022-05-09  first_touch         1.0    Justin Beiber\n",
       "1                  1 2022-03-21  first_touch         3.0        Joe Biden\n",
       "2                  2 2022-04-18  first_touch         2.0     Kylie Jenner\n",
       "3                  3 2022-02-07  first_touch         2.0     Kylie Jenner\n",
       "4                  4 2022-04-08  first_touch         1.0    Justin Beiber"
      ]
     },
     "execution_count": 36,
     "metadata": {},
     "output_type": "execute_result"
    }
   ],
   "source": [
    "df.head()"
   ]
  },
  {
   "cell_type": "code",
   "execution_count": 37,
   "id": "5c35be60",
   "metadata": {
    "ExecuteTime": {
     "end_time": "2022-10-13T11:17:52.580294Z",
     "start_time": "2022-10-13T11:17:52.566270Z"
    }
   },
   "outputs": [
    {
     "name": "stdout",
     "output_type": "stream",
     "text": [
      "<class 'pandas.core.frame.DataFrame'>\n",
      "RangeIndex: 3183 entries, 0 to 3182\n",
      "Data columns (total 5 columns):\n",
      " #   Column             Non-Null Count  Dtype         \n",
      "---  ------             --------------  -----         \n",
      " 0   client_account_id  3183 non-null   int64         \n",
      " 1   date               3183 non-null   datetime64[ns]\n",
      " 2   event_name         3183 non-null   object        \n",
      " 3   manager_id         3183 non-null   float64       \n",
      " 4   manager_nickname   3183 non-null   object        \n",
      "dtypes: datetime64[ns](1), float64(1), int64(1), object(2)\n",
      "memory usage: 124.5+ KB\n"
     ]
    }
   ],
   "source": [
    "df.info()"
   ]
  },
  {
   "cell_type": "code",
   "execution_count": 38,
   "id": "03b6ef94",
   "metadata": {
    "ExecuteTime": {
     "end_time": "2022-10-13T11:17:52.595559Z",
     "start_time": "2022-10-13T11:17:52.581292Z"
    }
   },
   "outputs": [
    {
     "data": {
      "text/plain": [
       "Joe Biden        1249\n",
       "Kylie Jenner     1007\n",
       "Justin Beiber     927\n",
       "Name: manager_nickname, dtype: int64"
      ]
     },
     "execution_count": 38,
     "metadata": {},
     "output_type": "execute_result"
    }
   ],
   "source": [
    "# check how many managers\n",
    "df['manager_nickname'].value_counts()"
   ]
  },
  {
   "cell_type": "code",
   "execution_count": 39,
   "id": "24cf8c8b",
   "metadata": {
    "ExecuteTime": {
     "end_time": "2022-10-13T11:17:52.611386Z",
     "start_time": "2022-10-13T11:17:52.596483Z"
    }
   },
   "outputs": [
    {
     "data": {
      "text/plain": [
       "Joe Biden        1158\n",
       "Justin Beiber     890\n",
       "Kylie Jenner      939\n",
       "Name: manager_nickname, dtype: int64"
      ]
     },
     "execution_count": 39,
     "metadata": {},
     "output_type": "execute_result"
    }
   ],
   "source": [
    "# Total first touchs\n",
    "first_touch = df[df['event_name'] == 'first_touch']['manager_nickname'].value_counts().sort_index()\n",
    "first_touch"
   ]
  },
  {
   "cell_type": "code",
   "execution_count": 40,
   "id": "7c7adcbf",
   "metadata": {
    "ExecuteTime": {
     "end_time": "2022-10-13T11:17:52.627310Z",
     "start_time": "2022-10-13T11:17:52.612301Z"
    }
   },
   "outputs": [
    {
     "data": {
      "text/plain": [
       "Joe Biden        91\n",
       "Justin Beiber    37\n",
       "Kylie Jenner     68\n",
       "Name: manager_nickname, dtype: int64"
      ]
     },
     "execution_count": 40,
     "metadata": {},
     "output_type": "execute_result"
    }
   ],
   "source": [
    "# Total deals\n",
    "deal = df[df['event_name'] == 'deal']['manager_nickname'].value_counts().sort_index()\n",
    "deal"
   ]
  },
  {
   "cell_type": "code",
   "execution_count": 41,
   "id": "c0270c6b",
   "metadata": {
    "ExecuteTime": {
     "end_time": "2022-10-13T11:17:52.642939Z",
     "start_time": "2022-10-13T11:17:52.628302Z"
    }
   },
   "outputs": [
    {
     "data": {
      "text/plain": [
       "Joe Biden        7.858377\n",
       "Justin Beiber    4.157303\n",
       "Kylie Jenner     7.241747\n",
       "Name: manager_nickname, dtype: float64"
      ]
     },
     "execution_count": 41,
     "metadata": {},
     "output_type": "execute_result"
    }
   ],
   "source": [
    "# conversion rates\n",
    "deal/first_touch*100"
   ]
  },
  {
   "cell_type": "code",
   "execution_count": 42,
   "id": "665ab32c",
   "metadata": {
    "ExecuteTime": {
     "end_time": "2022-10-13T11:17:52.657866Z",
     "start_time": "2022-10-13T11:17:52.643883Z"
    }
   },
   "outputs": [
    {
     "data": {
      "text/html": [
       "<div>\n",
       "<style scoped>\n",
       "    .dataframe tbody tr th:only-of-type {\n",
       "        vertical-align: middle;\n",
       "    }\n",
       "\n",
       "    .dataframe tbody tr th {\n",
       "        vertical-align: top;\n",
       "    }\n",
       "\n",
       "    .dataframe thead th {\n",
       "        text-align: right;\n",
       "    }\n",
       "</style>\n",
       "<table border=\"1\" class=\"dataframe\">\n",
       "  <thead>\n",
       "    <tr style=\"text-align: right;\">\n",
       "      <th></th>\n",
       "      <th>first_touchs</th>\n",
       "      <th>deals</th>\n",
       "      <th>conv_rate</th>\n",
       "    </tr>\n",
       "  </thead>\n",
       "  <tbody>\n",
       "    <tr>\n",
       "      <th>Joe Biden</th>\n",
       "      <td>1158</td>\n",
       "      <td>91</td>\n",
       "      <td>7.858377</td>\n",
       "    </tr>\n",
       "    <tr>\n",
       "      <th>Justin Beiber</th>\n",
       "      <td>890</td>\n",
       "      <td>37</td>\n",
       "      <td>4.157303</td>\n",
       "    </tr>\n",
       "    <tr>\n",
       "      <th>Kylie Jenner</th>\n",
       "      <td>939</td>\n",
       "      <td>68</td>\n",
       "      <td>7.241747</td>\n",
       "    </tr>\n",
       "  </tbody>\n",
       "</table>\n",
       "</div>"
      ],
      "text/plain": [
       "               first_touchs  deals  conv_rate\n",
       "Joe Biden              1158     91   7.858377\n",
       "Justin Beiber           890     37   4.157303\n",
       "Kylie Jenner            939     68   7.241747"
      ]
     },
     "execution_count": 42,
     "metadata": {},
     "output_type": "execute_result"
    }
   ],
   "source": [
    "conv_rate = pd.concat([first_touch,deal, deal/first_touch*100], axis=1)\n",
    "conv_rate.columns = ['first_touchs', 'deals', 'conv_rate']\n",
    "conv_rate"
   ]
  },
  {
   "cell_type": "markdown",
   "id": "c90a76e0",
   "metadata": {},
   "source": [
    "Without any analisys Joe Biden has the best conversion rate = 7.8%"
   ]
  },
  {
   "cell_type": "code",
   "execution_count": 43,
   "id": "312f57b2",
   "metadata": {
    "ExecuteTime": {
     "end_time": "2022-10-13T11:17:52.672753Z",
     "start_time": "2022-10-13T11:17:52.659752Z"
    },
    "scrolled": true
   },
   "outputs": [
    {
     "data": {
      "text/html": [
       "<div>\n",
       "<style scoped>\n",
       "    .dataframe tbody tr th:only-of-type {\n",
       "        vertical-align: middle;\n",
       "    }\n",
       "\n",
       "    .dataframe tbody tr th {\n",
       "        vertical-align: top;\n",
       "    }\n",
       "\n",
       "    .dataframe thead th {\n",
       "        text-align: right;\n",
       "    }\n",
       "</style>\n",
       "<table border=\"1\" class=\"dataframe\">\n",
       "  <thead>\n",
       "    <tr style=\"text-align: right;\">\n",
       "      <th></th>\n",
       "      <th>client_account_id</th>\n",
       "      <th>date</th>\n",
       "      <th>event_name</th>\n",
       "      <th>manager_id</th>\n",
       "      <th>manager_nickname</th>\n",
       "    </tr>\n",
       "  </thead>\n",
       "  <tbody>\n",
       "    <tr>\n",
       "      <th>39</th>\n",
       "      <td>39</td>\n",
       "      <td>2021-06-10</td>\n",
       "      <td>first_touch</td>\n",
       "      <td>3.0</td>\n",
       "      <td>Joe Biden</td>\n",
       "    </tr>\n",
       "    <tr>\n",
       "      <th>40</th>\n",
       "      <td>40</td>\n",
       "      <td>2022-05-02</td>\n",
       "      <td>first_touch</td>\n",
       "      <td>1.0</td>\n",
       "      <td>Justin Beiber</td>\n",
       "    </tr>\n",
       "    <tr>\n",
       "      <th>41</th>\n",
       "      <td>40</td>\n",
       "      <td>2022-02-24</td>\n",
       "      <td>deal</td>\n",
       "      <td>3.0</td>\n",
       "      <td>Joe Biden</td>\n",
       "    </tr>\n",
       "    <tr>\n",
       "      <th>42</th>\n",
       "      <td>41</td>\n",
       "      <td>2022-04-09</td>\n",
       "      <td>first_touch</td>\n",
       "      <td>1.0</td>\n",
       "      <td>Justin Beiber</td>\n",
       "    </tr>\n",
       "  </tbody>\n",
       "</table>\n",
       "</div>"
      ],
      "text/plain": [
       "    client_account_id       date   event_name  manager_id manager_nickname\n",
       "39                 39 2021-06-10  first_touch         3.0        Joe Biden\n",
       "40                 40 2022-05-02  first_touch         1.0    Justin Beiber\n",
       "41                 40 2022-02-24         deal         3.0        Joe Biden\n",
       "42                 41 2022-04-09  first_touch         1.0    Justin Beiber"
      ]
     },
     "execution_count": 43,
     "metadata": {},
     "output_type": "execute_result"
    }
   ],
   "source": [
    "df.loc[39:42, :]"
   ]
  },
  {
   "cell_type": "markdown",
   "id": "6090ab76",
   "metadata": {},
   "source": [
    "for client_account_id = 40 we have deal earlier than first touch. It is some mistake. It is nessesary to check how many such mistakes we have. "
   ]
  },
  {
   "cell_type": "code",
   "execution_count": 44,
   "id": "6eec5556",
   "metadata": {
    "ExecuteTime": {
     "end_time": "2022-10-13T11:17:52.687894Z",
     "start_time": "2022-10-13T11:17:52.673752Z"
    }
   },
   "outputs": [],
   "source": [
    "# first touch rows\n",
    "first_touch = df[df['event_name'] == 'first_touch']"
   ]
  },
  {
   "cell_type": "code",
   "execution_count": 45,
   "id": "ebaa90ac",
   "metadata": {
    "ExecuteTime": {
     "end_time": "2022-10-13T11:17:52.703989Z",
     "start_time": "2022-10-13T11:17:52.688895Z"
    }
   },
   "outputs": [],
   "source": [
    "# deal rows\n",
    "deal = df[df['event_name'] == 'deal']"
   ]
  },
  {
   "cell_type": "code",
   "execution_count": 46,
   "id": "d6c34ae2",
   "metadata": {
    "ExecuteTime": {
     "end_time": "2022-10-13T11:17:52.719416Z",
     "start_time": "2022-10-13T11:17:52.706028Z"
    }
   },
   "outputs": [],
   "source": [
    "# join deal and first touch rows\n",
    "deals = pd.concat([deal.set_index('client_account_id'), first_touch.set_index('client_account_id')], axis=1, join='inner')"
   ]
  },
  {
   "cell_type": "code",
   "execution_count": 47,
   "id": "d12f5935",
   "metadata": {
    "ExecuteTime": {
     "end_time": "2022-10-13T11:17:52.735172Z",
     "start_time": "2022-10-13T11:17:52.721597Z"
    }
   },
   "outputs": [],
   "source": [
    "# rename columns \n",
    "deals.columns = ['deal_date', 'deal', 'deal_manager_id', 'deal_manager_nickname', 'ft_date', 'ft_event_name', 'ft_manager_id', 'ft_manager_nickname']"
   ]
  },
  {
   "cell_type": "code",
   "execution_count": 48,
   "id": "2de26b2e",
   "metadata": {
    "ExecuteTime": {
     "end_time": "2022-10-13T11:17:52.766410Z",
     "start_time": "2022-10-13T11:17:52.737179Z"
    }
   },
   "outputs": [
    {
     "data": {
      "text/html": [
       "<div>\n",
       "<style scoped>\n",
       "    .dataframe tbody tr th:only-of-type {\n",
       "        vertical-align: middle;\n",
       "    }\n",
       "\n",
       "    .dataframe tbody tr th {\n",
       "        vertical-align: top;\n",
       "    }\n",
       "\n",
       "    .dataframe thead th {\n",
       "        text-align: right;\n",
       "    }\n",
       "</style>\n",
       "<table border=\"1\" class=\"dataframe\">\n",
       "  <thead>\n",
       "    <tr style=\"text-align: right;\">\n",
       "      <th></th>\n",
       "      <th>deal_date</th>\n",
       "      <th>deal</th>\n",
       "      <th>deal_manager_id</th>\n",
       "      <th>deal_manager_nickname</th>\n",
       "      <th>ft_date</th>\n",
       "      <th>ft_event_name</th>\n",
       "      <th>ft_manager_id</th>\n",
       "      <th>ft_manager_nickname</th>\n",
       "    </tr>\n",
       "    <tr>\n",
       "      <th>client_account_id</th>\n",
       "      <th></th>\n",
       "      <th></th>\n",
       "      <th></th>\n",
       "      <th></th>\n",
       "      <th></th>\n",
       "      <th></th>\n",
       "      <th></th>\n",
       "      <th></th>\n",
       "    </tr>\n",
       "  </thead>\n",
       "  <tbody>\n",
       "    <tr>\n",
       "      <th>40</th>\n",
       "      <td>2022-02-24</td>\n",
       "      <td>deal</td>\n",
       "      <td>3.0</td>\n",
       "      <td>Joe Biden</td>\n",
       "      <td>2022-05-02</td>\n",
       "      <td>first_touch</td>\n",
       "      <td>1.0</td>\n",
       "      <td>Justin Beiber</td>\n",
       "    </tr>\n",
       "    <tr>\n",
       "      <th>63</th>\n",
       "      <td>2022-03-14</td>\n",
       "      <td>deal</td>\n",
       "      <td>2.0</td>\n",
       "      <td>Kylie Jenner</td>\n",
       "      <td>2022-02-03</td>\n",
       "      <td>first_touch</td>\n",
       "      <td>1.0</td>\n",
       "      <td>Justin Beiber</td>\n",
       "    </tr>\n",
       "    <tr>\n",
       "      <th>86</th>\n",
       "      <td>2022-05-24</td>\n",
       "      <td>deal</td>\n",
       "      <td>1.0</td>\n",
       "      <td>Justin Beiber</td>\n",
       "      <td>2021-12-17</td>\n",
       "      <td>first_touch</td>\n",
       "      <td>3.0</td>\n",
       "      <td>Joe Biden</td>\n",
       "    </tr>\n",
       "    <tr>\n",
       "      <th>87</th>\n",
       "      <td>2022-05-23</td>\n",
       "      <td>deal</td>\n",
       "      <td>2.0</td>\n",
       "      <td>Kylie Jenner</td>\n",
       "      <td>2022-05-30</td>\n",
       "      <td>first_touch</td>\n",
       "      <td>1.0</td>\n",
       "      <td>Justin Beiber</td>\n",
       "    </tr>\n",
       "    <tr>\n",
       "      <th>127</th>\n",
       "      <td>2021-08-30</td>\n",
       "      <td>deal</td>\n",
       "      <td>3.0</td>\n",
       "      <td>Joe Biden</td>\n",
       "      <td>2022-05-22</td>\n",
       "      <td>first_touch</td>\n",
       "      <td>1.0</td>\n",
       "      <td>Justin Beiber</td>\n",
       "    </tr>\n",
       "    <tr>\n",
       "      <th>...</th>\n",
       "      <td>...</td>\n",
       "      <td>...</td>\n",
       "      <td>...</td>\n",
       "      <td>...</td>\n",
       "      <td>...</td>\n",
       "      <td>...</td>\n",
       "      <td>...</td>\n",
       "      <td>...</td>\n",
       "    </tr>\n",
       "    <tr>\n",
       "      <th>2793</th>\n",
       "      <td>2022-02-26</td>\n",
       "      <td>deal</td>\n",
       "      <td>2.0</td>\n",
       "      <td>Kylie Jenner</td>\n",
       "      <td>2021-08-08</td>\n",
       "      <td>first_touch</td>\n",
       "      <td>3.0</td>\n",
       "      <td>Joe Biden</td>\n",
       "    </tr>\n",
       "    <tr>\n",
       "      <th>2849</th>\n",
       "      <td>2022-01-03</td>\n",
       "      <td>deal</td>\n",
       "      <td>3.0</td>\n",
       "      <td>Joe Biden</td>\n",
       "      <td>2022-04-02</td>\n",
       "      <td>first_touch</td>\n",
       "      <td>3.0</td>\n",
       "      <td>Joe Biden</td>\n",
       "    </tr>\n",
       "    <tr>\n",
       "      <th>2856</th>\n",
       "      <td>2021-12-01</td>\n",
       "      <td>deal</td>\n",
       "      <td>2.0</td>\n",
       "      <td>Kylie Jenner</td>\n",
       "      <td>2022-05-30</td>\n",
       "      <td>first_touch</td>\n",
       "      <td>3.0</td>\n",
       "      <td>Joe Biden</td>\n",
       "    </tr>\n",
       "    <tr>\n",
       "      <th>2885</th>\n",
       "      <td>2022-04-20</td>\n",
       "      <td>deal</td>\n",
       "      <td>3.0</td>\n",
       "      <td>Joe Biden</td>\n",
       "      <td>2021-10-21</td>\n",
       "      <td>first_touch</td>\n",
       "      <td>2.0</td>\n",
       "      <td>Kylie Jenner</td>\n",
       "    </tr>\n",
       "    <tr>\n",
       "      <th>2896</th>\n",
       "      <td>2022-02-25</td>\n",
       "      <td>deal</td>\n",
       "      <td>2.0</td>\n",
       "      <td>Kylie Jenner</td>\n",
       "      <td>2022-01-07</td>\n",
       "      <td>first_touch</td>\n",
       "      <td>3.0</td>\n",
       "      <td>Joe Biden</td>\n",
       "    </tr>\n",
       "  </tbody>\n",
       "</table>\n",
       "<p>196 rows × 8 columns</p>\n",
       "</div>"
      ],
      "text/plain": [
       "                   deal_date  deal  deal_manager_id deal_manager_nickname  \\\n",
       "client_account_id                                                           \n",
       "40                2022-02-24  deal              3.0             Joe Biden   \n",
       "63                2022-03-14  deal              2.0          Kylie Jenner   \n",
       "86                2022-05-24  deal              1.0         Justin Beiber   \n",
       "87                2022-05-23  deal              2.0          Kylie Jenner   \n",
       "127               2021-08-30  deal              3.0             Joe Biden   \n",
       "...                      ...   ...              ...                   ...   \n",
       "2793              2022-02-26  deal              2.0          Kylie Jenner   \n",
       "2849              2022-01-03  deal              3.0             Joe Biden   \n",
       "2856              2021-12-01  deal              2.0          Kylie Jenner   \n",
       "2885              2022-04-20  deal              3.0             Joe Biden   \n",
       "2896              2022-02-25  deal              2.0          Kylie Jenner   \n",
       "\n",
       "                     ft_date ft_event_name  ft_manager_id ft_manager_nickname  \n",
       "client_account_id                                                              \n",
       "40                2022-05-02   first_touch            1.0       Justin Beiber  \n",
       "63                2022-02-03   first_touch            1.0       Justin Beiber  \n",
       "86                2021-12-17   first_touch            3.0           Joe Biden  \n",
       "87                2022-05-30   first_touch            1.0       Justin Beiber  \n",
       "127               2022-05-22   first_touch            1.0       Justin Beiber  \n",
       "...                      ...           ...            ...                 ...  \n",
       "2793              2021-08-08   first_touch            3.0           Joe Biden  \n",
       "2849              2022-04-02   first_touch            3.0           Joe Biden  \n",
       "2856              2022-05-30   first_touch            3.0           Joe Biden  \n",
       "2885              2021-10-21   first_touch            2.0        Kylie Jenner  \n",
       "2896              2022-01-07   first_touch            3.0           Joe Biden  \n",
       "\n",
       "[196 rows x 8 columns]"
      ]
     },
     "execution_count": 48,
     "metadata": {},
     "output_type": "execute_result"
    }
   ],
   "source": [
    "deals"
   ]
  },
  {
   "cell_type": "code",
   "execution_count": 49,
   "id": "ecf9cc75",
   "metadata": {
    "ExecuteTime": {
     "end_time": "2022-10-13T11:17:52.782010Z",
     "start_time": "2022-10-13T11:17:52.767417Z"
    }
   },
   "outputs": [
    {
     "data": {
      "text/plain": [
       "80"
      ]
     },
     "execution_count": 49,
     "metadata": {},
     "output_type": "execute_result"
    }
   ],
   "source": [
    "# how many deals earlier dates than first touchs\n",
    "(deals['deal_date'] < deals['ft_date']).sum()"
   ]
  },
  {
   "cell_type": "markdown",
   "id": "5cba9bc3",
   "metadata": {},
   "source": [
    "There are 80 deals with earlier dates than first touchs. As it is imposible and we don't have explanation how to fix it, let's drop such client account id and calculate conversion rate again "
   ]
  },
  {
   "cell_type": "code",
   "execution_count": 50,
   "id": "566dc3ca",
   "metadata": {
    "ExecuteTime": {
     "end_time": "2022-10-13T11:17:52.797362Z",
     "start_time": "2022-10-13T11:17:52.783031Z"
    }
   },
   "outputs": [],
   "source": [
    "deals['days_dif'] = (deals['deal_date'] - deals['ft_date']).dt.days"
   ]
  },
  {
   "cell_type": "code",
   "execution_count": 51,
   "id": "7962fe15",
   "metadata": {
    "ExecuteTime": {
     "end_time": "2022-10-13T11:17:52.813212Z",
     "start_time": "2022-10-13T11:17:52.798407Z"
    }
   },
   "outputs": [
    {
     "data": {
      "text/plain": [
       "Joe Biden        50\n",
       "Kylie Jenner     26\n",
       "Justin Beiber     4\n",
       "Name: deal_manager_nickname, dtype: int64"
      ]
     },
     "execution_count": 51,
     "metadata": {},
     "output_type": "execute_result"
    }
   ],
   "source": [
    "deals[deals['days_dif'] < 0]['deal_manager_nickname'].value_counts()"
   ]
  },
  {
   "cell_type": "code",
   "execution_count": 52,
   "id": "cbb17e59",
   "metadata": {
    "ExecuteTime": {
     "end_time": "2022-10-13T11:17:52.828233Z",
     "start_time": "2022-10-13T11:17:52.814224Z"
    }
   },
   "outputs": [
    {
     "data": {
      "text/plain": [
       "Justin Beiber    36\n",
       "Kylie Jenner     28\n",
       "Joe Biden        16\n",
       "Name: ft_manager_nickname, dtype: int64"
      ]
     },
     "execution_count": 52,
     "metadata": {},
     "output_type": "execute_result"
    }
   ],
   "source": [
    "deals[deals['days_dif'] < 0]['ft_manager_nickname'].value_counts()"
   ]
  },
  {
   "cell_type": "code",
   "execution_count": null,
   "id": "0496df0d",
   "metadata": {},
   "outputs": [],
   "source": []
  },
  {
   "cell_type": "code",
   "execution_count": 53,
   "id": "7442cf65",
   "metadata": {
    "ExecuteTime": {
     "end_time": "2022-10-13T11:17:52.843718Z",
     "start_time": "2022-10-13T11:17:52.829157Z"
    }
   },
   "outputs": [],
   "source": [
    "client_id_drop = deals[deals['days_dif'] < 0].index"
   ]
  },
  {
   "cell_type": "code",
   "execution_count": 54,
   "id": "34dd12e4",
   "metadata": {
    "ExecuteTime": {
     "end_time": "2022-10-13T11:17:52.859773Z",
     "start_time": "2022-10-13T11:17:52.844726Z"
    }
   },
   "outputs": [],
   "source": [
    "data = df.query('client_account_id not in @client_id_drop')"
   ]
  },
  {
   "cell_type": "code",
   "execution_count": 55,
   "id": "b8b7c47e",
   "metadata": {
    "ExecuteTime": {
     "end_time": "2022-10-13T11:17:52.875162Z",
     "start_time": "2022-10-13T11:17:52.861451Z"
    }
   },
   "outputs": [
    {
     "data": {
      "text/plain": [
       "Joe Biden        1142\n",
       "Justin Beiber     854\n",
       "Kylie Jenner      911\n",
       "Name: manager_nickname, dtype: int64"
      ]
     },
     "execution_count": 55,
     "metadata": {},
     "output_type": "execute_result"
    }
   ],
   "source": [
    "# Total first touchs\n",
    "first_touch = data[data['event_name'] == 'first_touch']['manager_nickname'].value_counts().sort_index()\n",
    "first_touch"
   ]
  },
  {
   "cell_type": "code",
   "execution_count": 56,
   "id": "982448c2",
   "metadata": {
    "ExecuteTime": {
     "end_time": "2022-10-13T11:17:52.891104Z",
     "start_time": "2022-10-13T11:17:52.876083Z"
    }
   },
   "outputs": [
    {
     "data": {
      "text/plain": [
       "Joe Biden        41\n",
       "Justin Beiber    33\n",
       "Kylie Jenner     42\n",
       "Name: manager_nickname, dtype: int64"
      ]
     },
     "execution_count": 56,
     "metadata": {},
     "output_type": "execute_result"
    }
   ],
   "source": [
    "# Total deals\n",
    "deal = data[data['event_name'] == 'deal']['manager_nickname'].value_counts().sort_index()\n",
    "deal"
   ]
  },
  {
   "cell_type": "code",
   "execution_count": 57,
   "id": "e6f95b52",
   "metadata": {
    "ExecuteTime": {
     "end_time": "2022-10-13T11:17:52.906244Z",
     "start_time": "2022-10-13T11:17:52.892104Z"
    }
   },
   "outputs": [
    {
     "data": {
      "text/plain": [
       "Joe Biden        3.590193\n",
       "Justin Beiber    3.864169\n",
       "Kylie Jenner     4.610318\n",
       "Name: manager_nickname, dtype: float64"
      ]
     },
     "execution_count": 57,
     "metadata": {},
     "output_type": "execute_result"
    }
   ],
   "source": [
    "deal/first_touch*100"
   ]
  },
  {
   "cell_type": "code",
   "execution_count": 58,
   "id": "a8f420b7",
   "metadata": {
    "ExecuteTime": {
     "end_time": "2022-10-13T11:17:52.922253Z",
     "start_time": "2022-10-13T11:17:52.907244Z"
    }
   },
   "outputs": [
    {
     "data": {
      "text/html": [
       "<div>\n",
       "<style scoped>\n",
       "    .dataframe tbody tr th:only-of-type {\n",
       "        vertical-align: middle;\n",
       "    }\n",
       "\n",
       "    .dataframe tbody tr th {\n",
       "        vertical-align: top;\n",
       "    }\n",
       "\n",
       "    .dataframe thead th {\n",
       "        text-align: right;\n",
       "    }\n",
       "</style>\n",
       "<table border=\"1\" class=\"dataframe\">\n",
       "  <thead>\n",
       "    <tr style=\"text-align: right;\">\n",
       "      <th></th>\n",
       "      <th>first_touchs</th>\n",
       "      <th>deals</th>\n",
       "      <th>conv_rate</th>\n",
       "    </tr>\n",
       "  </thead>\n",
       "  <tbody>\n",
       "    <tr>\n",
       "      <th>Joe Biden</th>\n",
       "      <td>1142</td>\n",
       "      <td>41</td>\n",
       "      <td>3.590193</td>\n",
       "    </tr>\n",
       "    <tr>\n",
       "      <th>Justin Beiber</th>\n",
       "      <td>854</td>\n",
       "      <td>33</td>\n",
       "      <td>3.864169</td>\n",
       "    </tr>\n",
       "    <tr>\n",
       "      <th>Kylie Jenner</th>\n",
       "      <td>911</td>\n",
       "      <td>42</td>\n",
       "      <td>4.610318</td>\n",
       "    </tr>\n",
       "  </tbody>\n",
       "</table>\n",
       "</div>"
      ],
      "text/plain": [
       "               first_touchs  deals  conv_rate\n",
       "Joe Biden              1142     41   3.590193\n",
       "Justin Beiber           854     33   3.864169\n",
       "Kylie Jenner            911     42   4.610318"
      ]
     },
     "execution_count": 58,
     "metadata": {},
     "output_type": "execute_result"
    }
   ],
   "source": [
    "conv_rate = pd.concat([first_touch,deal, deal/first_touch*100], axis=1)\n",
    "conv_rate.columns = ['first_touchs', 'deals', 'conv_rate']\n",
    "conv_rate"
   ]
  },
  {
   "cell_type": "markdown",
   "id": "a0e9d2b2",
   "metadata": {},
   "source": [
    "Now best rate has Kylie Jenner with rate 4.6%"
   ]
  }
 ],
 "metadata": {
  "kernelspec": {
   "display_name": "Python 3 (ipykernel)",
   "language": "python",
   "name": "python3"
  },
  "language_info": {
   "codemirror_mode": {
    "name": "ipython",
    "version": 3
   },
   "file_extension": ".py",
   "mimetype": "text/x-python",
   "name": "python",
   "nbconvert_exporter": "python",
   "pygments_lexer": "ipython3",
   "version": "3.9.12"
  },
  "toc": {
   "base_numbering": 1,
   "nav_menu": {},
   "number_sections": true,
   "sideBar": true,
   "skip_h1_title": false,
   "title_cell": "Table of Contents",
   "title_sidebar": "Contents",
   "toc_cell": false,
   "toc_position": {},
   "toc_section_display": true,
   "toc_window_display": false
  }
 },
 "nbformat": 4,
 "nbformat_minor": 5
}
